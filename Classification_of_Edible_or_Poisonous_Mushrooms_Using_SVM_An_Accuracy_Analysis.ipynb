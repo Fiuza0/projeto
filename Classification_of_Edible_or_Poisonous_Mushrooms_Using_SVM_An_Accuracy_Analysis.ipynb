{
  "nbformat": 4,
  "nbformat_minor": 0,
  "metadata": {
    "colab": {
      "provenance": [],
      "name": "Classification of Edible or Poisonous Mushrooms Using SVM: An Accuracy Analysis.ipynb"
    },
    "kernelspec": {
      "name": "python3",
      "display_name": "Python 3"
    },
    "language_info": {
      "name": "python"
    }
  },
  "cells": [
    {
      "cell_type": "code",
      "execution_count": null,
      "metadata": {
        "id": "MFvh0CBhzumz"
      },
      "outputs": [],
      "source": [
        "import pandas as pd\n",
        "from sklearn.model_selection import train_test_split\n",
        "from sklearn.preprocessing import LabelEncoder\n",
        "from sklearn import svm\n",
        "from sklearn.metrics import accuracy_score\n",
        "\n",
        "# Carregar o dataset de cogumelos\n",
        "url = 'https://archive.ics.uci.edu/ml/machine-learning-databases/mushroom/agaricus-lepiota.data'\n",
        "column_names = [\n",
        "    'edibility', 'cap-shape', 'cap-surface', 'cap-color', 'bruises', 'odor', 'gill-attachment',\n",
        "    'gill-spacing', 'gill-size', 'gill-color', 'stalk-shape', 'stalk-root', 'stalk-surface-above-ring',\n",
        "    'stalk-surface-below-ring', 'stalk-color-above-ring', 'stalk-color-below-ring', 'veil-type', 'veil-color',\n",
        "    'ring-number', 'ring-type', 'spore-print-color', 'population', 'habitat'\n",
        "]\n",
        "mushroom_data = pd.read_csv(url, names=column_names)\n",
        "\n",
        "# Converter valores categóricos em numéricos\n",
        "label_encoder = LabelEncoder()\n",
        "for column in mushroom_data.columns:\n",
        "    mushroom_data[column] = label_encoder.fit_transform(mushroom_data[column])\n",
        "\n",
        "# Separar as features e o target\n",
        "X = mushroom_data.drop('edibility', axis=1)\n",
        "y = mushroom_data['edibility']\n",
        "\n",
        "# Dividir o conjunto de dados em treino e teste\n",
        "X_train, X_test, y_train, y_test = train_test_split(X, y, test_size=0.2, random_state=42)\n",
        "\n",
        "# Criar o classificador SVM\n",
        "classifier = svm.SVC()\n",
        "\n",
        "# Treinar o classificador SVM\n",
        "classifier.fit(X_train, y_train)\n",
        "\n",
        "# Fazer previsões no conjunto de teste\n",
        "y_pred = classifier.predict(X_test)\n",
        "\n",
        "# Calcular a acurácia do modelo\n",
        "accuracy = accuracy_score(y_test, y_pred)\n",
        "print(\"Acurácia:\", accuracy)"
      ]
    }
  ]
}